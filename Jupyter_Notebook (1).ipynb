{
 "cells": [
  {
   "cell_type": "markdown",
   "metadata": {},
   "source": [
    "<center>\n",
    "    <img src=\"https://cf-courses-data.s3.us.cloud-object-storage.appdomain.cloud/IBMDeveloperSkillsNetwork-DS0105EN-SkillsNetwork/labs/Module2/images/SN_web_lightmode.png\" width=\"300\" alt=\"cognitiveclass.ai logo\">\n",
    "</center>\n"
   ]
  },
  {
   "cell_type": "markdown",
   "metadata": {},
   "source": [
    "#### Add your code below following the instructions given in the course\n"
   ]
  },
  {
   "cell_type": "code",
   "execution_count": null,
   "metadata": {},
   "outputs": [],
   "source": [
    "Jupyter Notebook"
   ]
  },
  {
   "cell_type": "code",
   "execution_count": null,
   "metadata": {},
   "outputs": [],
   "source": [
    "Bienvenido a mi cuaderno Jupyter"
   ]
  },
  {
   "cell_type": "code",
   "execution_count": null,
   "metadata": {},
   "outputs": [],
   "source": [
    "Ejercicio 4: Cree una celda de rebajas para enumerar los lenguajes de ciencia de datos\n",
    "Algunos de los lenguajes populares que utilizan los científicos de datos son:\n",
    "\n",
    "1. Python\n",
    "2. R\n",
    "3. SQL\n",
    "4. Julia\n",
    "5. Java"
   ]
  },
  {
   "cell_type": "code",
   "execution_count": null,
   "metadata": {},
   "outputs": [],
   "source": [
    "Ejercicio 5: crear una celda de rebajas para enumerar las bibliotecas de ciencia de datos\n",
    "Algunas de las bibliotecas comúnmente utilizadas por los científicos de datos incluyen:\n",
    "\n",
    "1. Pandas\n",
    "2. Numpy\n",
    "3. Matplotlib\n",
    "4. Scikit-learn\n",
    "5. TensorFlow"
   ]
  },
  {
   "cell_type": "code",
   "execution_count": null,
   "metadata": {},
   "outputs": [],
   "source": [
    "Ejercicio 6: crear una celda de rebajas con una tabla de herramientas de ciencia de datos\n",
    "\n",
    "    \"| **Data Science Tools**     |\\n\",\n",
    "    \"|----------------------------|\\n\",\n",
    "    \"| Jupyter Notebook            |\\n\",\n",
    "    \"| RStudio                     |\\n\",\n",
    "    \"| Apache Zeppelin             |\\n\""
   ]
  },
  {
   "cell_type": "code",
   "execution_count": null,
   "metadata": {},
   "outputs": [],
   "source": [
    "Ejercicio 7: crear una celda de rebajas que presente ejemplos de expresiones aritméticas\n",
    "A continuación se muestran algunos ejemplos de evaluación de expresiones aritméticas en Python.\n",
    "\n",
    "Suma: 5 + 3 = 8\n",
    "\n",
    "Resta: 10 - 4 = 6\n",
    "\n",
    "Multiplicación: 3 * 7 = 21\n",
    "\n",
    "División: 16/2 = 8\n",
    "\n",
    "Exponenciación: 2 ** 3 = 8\n",
    "\n",
    "Paréntesis y operaciones mixtas: (3 * 4) + 5 = 17\n",
    "\n",
    "Operaciones mixtas con exponentes y división:\n",
    "2 ** 3/4 ​​+ 5 = 7,0\n",
    "\n",
    "Paréntesis con operaciones anidadas:\n",
    "(5 + (3 * 4)) - 2 = 15\n",
    "\n",
    "Exponenciación y raíces cuadradas:\n",
    "16 ** (1/2) = 4,0 (Raíz cuadrada de 16)\n",
    "\n",
    "Expresión compuesta con múltiples operaciones:\n",
    "(3 * 4) + (5 ** 2) - (18 / 3) = 31,0"
   ]
  },
  {
   "cell_type": "code",
   "execution_count": null,
   "metadata": {},
   "outputs": [],
   "source": [
    "Ejercicio 8: crea una celda de código para multiplicar y sumar números\n",
    "\n"
   ]
  },
  {
   "cell_type": "code",
   "execution_count": 1,
   "metadata": {
    "jupyter": {
     "source_hidden": true
    }
   },
   "outputs": [
    {
     "data": {
      "text/plain": [
       "31"
      ]
     },
     "execution_count": 1,
     "metadata": {},
     "output_type": "execute_result"
    }
   ],
   "source": [
    "(4 * 4) + 15"
   ]
  },
  {
   "cell_type": "code",
   "execution_count": null,
   "metadata": {},
   "outputs": [],
   "source": [
    "Ejercicio 9: cree una celda de código para convertir minutos a horas"
   ]
  },
  {
   "cell_type": "code",
   "execution_count": 2,
   "metadata": {},
   "outputs": [
    {
     "data": {
      "text/plain": [
       "5.0"
      ]
     },
     "execution_count": 2,
     "metadata": {},
     "output_type": "execute_result"
    }
   ],
   "source": [
    "300 / 60"
   ]
  },
  {
   "cell_type": "code",
   "execution_count": null,
   "metadata": {},
   "outputs": [],
   "source": [
    "Ejercicio 10: Insertar una celda de rebajas para enumerar los objetivos\n",
    "Objetivos:\n",
    "\n",
    "1- Listar idiomas populares para ciencia de datos\n",
    "2- Identificar bibliotecas de ciencia de datos de uso común\n",
    "3- Explore diferentes herramientas de ciencia de datos de código abierto\n",
    "4- Realizar operaciones aritméticas básicas en Python\n",
    "5- Comprender el proceso de conversión de unidades en Python (por ejemplo, minutos a horas)"
   ]
  },
  {
   "cell_type": "code",
   "execution_count": null,
   "metadata": {},
   "outputs": [],
   "source": [
    "Ejercicio 11: cree una celda de rebajas para indicar el nombre del autor\n",
    "\"## Author\\n\",\n",
    "    \"\\n\",\n",
    "    \"Ignacio Susarte C.\""
   ]
  }
 ],
 "metadata": {
  "kernelspec": {
   "display_name": "Python 3 (ipykernel)",
   "language": "python",
   "name": "python3"
  },
  "language_info": {
   "codemirror_mode": {
    "name": "ipython",
    "version": 3
   },
   "file_extension": ".py",
   "mimetype": "text/x-python",
   "name": "python",
   "nbconvert_exporter": "python",
   "pygments_lexer": "ipython3",
   "version": "3.11.9"
  }
 },
 "nbformat": 4,
 "nbformat_minor": 4
}
